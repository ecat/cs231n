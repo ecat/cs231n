{
 "cells": [
  {
   "cell_type": "code",
   "execution_count": null,
   "metadata": {},
   "outputs": [],
   "source": [
    "import tensorflow as tf\n",
    "import numpy as np\n",
    "import matplotlib.pyplot as plt\n",
    "\n",
    "import dataset as dd # custom dataset class\n",
    "%matplotlib inline\n"
   ]
  },
  {
   "cell_type": "code",
   "execution_count": null,
   "metadata": {},
   "outputs": [],
   "source": [
    "dataset, im_ref, im_us = dd.get_dataset(1)"
   ]
  },
  {
   "cell_type": "code",
   "execution_count": null,
   "metadata": {},
   "outputs": [],
   "source": [
    "slice_to_show = 160\n",
    "\n",
    "N, X, Y, C = im_us.shape\n",
    "\n",
    "plt.imshow(im_ref[slice_to_show, :, :], cmap='gray')\n",
    "plt.title('fully sampled image')\n",
    "plt.axis('off')\n",
    "plt.show()\n",
    "\n",
    "coil_ims = np.transpose(im_us[slice_to_show, :, :, :], (2, 0, 1))\n",
    "coil_ims_to_show = np.reshape(coil_ims[0:2, :, :], (2 * X, Y))\n",
    "\n",
    "for ii in range(1, 4):\n",
    "    coil_ims_to_show = np.concatenate((coil_ims_to_show, \n",
    "                                       np.reshape(coil_ims[2 * ii: 2 * (ii + 1), :, :], (2 * X, Y))), axis=1)\n",
    "\n",
    "plt.imshow(coil_ims_to_show, cmap='gray')\n",
    "plt.title('coil images')\n",
    "plt.axis('off')\n",
    "plt.show()"
   ]
  },
  {
   "cell_type": "code",
   "execution_count": null,
   "metadata": {},
   "outputs": [],
   "source": [
    "iterator = dataset.make_one_shot_iterator()\n",
    "next_element = iterator.get_next()\n"
   ]
  },
  {
   "cell_type": "code",
   "execution_count": null,
   "metadata": {},
   "outputs": [],
   "source": [
    "# https://www.tensorflow.org/programmers_guide/using_gpu\n",
    "# set CUDA_VISIBLE_DEVICES=\"\" to force cpu\n",
    "# https://stackoverflow.com/questions/46135499/how-to-properly-combine-tensorflows-dataset-api-and-keras\n",
    "x = np.arange(4).reshape(-1, 1).astype('float32')\n",
    "ds_x = tf.data.Dataset.from_tensor_slices(x).repeat().batch(4)\n",
    "it_x = ds_x.make_one_shot_iterator()\n",
    "\n",
    "y = np.arange(5, 9).reshape(-1, 1).astype('float32')\n",
    "ds_y = tf.data.Dataset.from_tensor_slices(y).repeat().batch(4)\n",
    "it_y = ds_y.make_one_shot_iterator()\n",
    "\n",
    "input_vals = tf.keras.Input(tensor=it_x.get_next())\n",
    "output = tf.keras.layers.Dense(1, activation='relu')(input_vals)\n",
    "model = tf.keras.Model(inputs=input_vals, outputs=output)\n",
    "model.compile('rmsprop', 'mse', target_tensors=[it_y.get_next()])\n",
    "model.fit(steps_per_epoch=1, epochs=5, verbose=2)"
   ]
  },
  {
   "cell_type": "code",
   "execution_count": null,
   "metadata": {},
   "outputs": [],
   "source": []
  },
  {
   "cell_type": "code",
   "execution_count": null,
   "metadata": {},
   "outputs": [],
   "source": []
  }
 ],
 "metadata": {
  "kernelspec": {
   "display_name": "Python [default]",
   "language": "python",
   "name": "python2"
  },
  "language_info": {
   "codemirror_mode": {
    "name": "ipython",
    "version": 2
   },
   "file_extension": ".py",
   "mimetype": "text/x-python",
   "name": "python",
   "nbconvert_exporter": "python",
   "pygments_lexer": "ipython2",
   "version": "2.7.13"
  }
 },
 "nbformat": 4,
 "nbformat_minor": 2
}
