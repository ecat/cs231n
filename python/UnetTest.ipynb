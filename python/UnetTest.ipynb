{
 "cells": [
  {
   "cell_type": "code",
   "execution_count": 1,
   "metadata": {},
   "outputs": [],
   "source": [
    "import tensorflow as tf\n",
    "import numpy as np\n",
    "import matplotlib.pyplot as plt\n",
    "\n",
    "import dataset as dd # custom dataset class\n",
    "import unet\n",
    "\n",
    "# so that when you change an imported file, it changes in the notebook\n",
    "%load_ext autoreload \n",
    "%autoreload 2\n",
    "%matplotlib notebook\n",
    "\n",
    "# Cleaning up variables to prevent loading data multiple times (which may cause memory issue)\n",
    "try:\n",
    "   del X_train, y_train\n",
    "   del X_test, y_test\n",
    "   print('Clear previously loaded data.')\n",
    "except:\n",
    "   pass\n",
    "\n",
    "im_ref, im_us = dd.get_dataset(1)\n",
    "X_train, y_train = (im_us,  im_ref)\n",
    "\n",
    "im_ref_test, im_us_test = dd.get_dataset(1)\n",
    "X_test, y_test = (im_us_test, im_ref_test)\n",
    "\n"
   ]
  },
  {
   "cell_type": "code",
   "execution_count": 2,
   "metadata": {},
   "outputs": [
    {
     "name": "stdout",
     "output_type": "stream",
     "text": [
      "('Training data shape: ', (320, 320, 256, 8))\n",
      "('Training labels shape: ', (320, 320, 256, 1))\n",
      "('Test data shape: ', (320, 320, 256, 8))\n",
      "('Test labels shape: ', (320, 320, 256, 1))\n"
     ]
    }
   ],
   "source": [
    "print('Training data shape: ', X_train.shape)\n",
    "print('Training labels shape: ', y_train.shape)\n",
    "print('Test data shape: ', X_test.shape)\n",
    "print('Test labels shape: ', y_test.shape)"
   ]
  },
  {
   "cell_type": "code",
   "execution_count": 15,
   "metadata": {},
   "outputs": [],
   "source": [
    "from unetblocks import res_block, gen_conv, gen_conv_bn_relu\n",
    "\n",
    "input_shape = X_train.shape[1:]\n",
    "inputs = tf.keras.layers.Input(shape=input_shape)\n",
    "f16 = {'filters': 16, 'kernel_size': (3, 3), 'strides': (1, 1), 'padding': 'same', 'activation': 'linear'}\n",
    "f32 = f16.copy()\n",
    "f32['filters'] = 32\n",
    "f64 = f32.copy()\n",
    "f64['filters'] = 64\n",
    "f128 = f64.copy()\n",
    "f128['filters'] = 128\n",
    "\n",
    "gen_fn = gen_conv_bn_relu\n",
    "\n",
    "res_out = res_block(gen_fn(**f16), gen_fn(**f16))(inputs, \n",
    "                                                      resblocks=[res_block(gen_fn(**f32), gen_fn(**f32)),\n",
    "                                                                 res_block(gen_fn(**f64), gen_fn(**f64)),\n",
    "                                                                         res_block(gen_fn(**f128))])\n",
    "out = tf.keras.layers.Dense(1)(res_out)\n",
    "model = tf.keras.models.Model(inputs=inputs, outputs=out)\n",
    "## example from https://keras.io/callbacks/\n",
    "class LossHistory(tf.keras.callbacks.Callback):\n",
    "    def on_train_begin(self, logs={}):\n",
    "        self.losses = []\n",
    "\n",
    "    def on_batch_end(self, batch, logs={}):\n",
    "        self.losses.append(logs.get('loss'))\n",
    "\n",
    "history = LossHistory()\n",
    "tb_callback = tf.keras.callbacks.TensorBoard(log_dir='/home/pkllee/tmp/')\n",
    "\n",
    "adam_optimizer = tf.keras.optimizers.Adam(lr=0.01, beta_1 = 0.9, beta_2=0.999, decay=0.01)\n",
    "\n",
    "model.compile(optimizer=adam_optimizer, loss='mean_squared_error', metrics=['mse'])"
   ]
  },
  {
   "cell_type": "code",
   "execution_count": null,
   "metadata": {},
   "outputs": [
    {
     "name": "stdout",
     "output_type": "stream",
     "text": [
      "Epoch 1/200\n",
      "320/320 [==============================] - 9s 27ms/step - loss: 0.1319 - mean_squared_error: 0.1319\n",
      "Epoch 2/200\n",
      "320/320 [==============================] - 8s 25ms/step - loss: 0.0020 - mean_squared_error: 0.0020\n",
      "Epoch 3/200\n",
      "320/320 [==============================] - 8s 25ms/step - loss: 0.0010 - mean_squared_error: 0.0010\n",
      "Epoch 4/200\n",
      "320/320 [==============================] - 8s 25ms/step - loss: 6.2025e-04 - mean_squared_error: 6.2025e-04\n",
      "Epoch 5/200\n",
      "320/320 [==============================] - 8s 25ms/step - loss: 4.7609e-04 - mean_squared_error: 4.7609e-04\n",
      "Epoch 6/200\n",
      "320/320 [==============================] - 8s 26ms/step - loss: 4.0773e-04 - mean_squared_error: 4.0773e-04\n",
      "Epoch 7/200\n",
      "320/320 [==============================] - 8s 25ms/step - loss: 3.8053e-04 - mean_squared_error: 3.8053e-04\n",
      "Epoch 8/200\n",
      "320/320 [==============================] - 8s 24ms/step - loss: 3.5623e-04 - mean_squared_error: 3.5623e-04\n",
      "Epoch 9/200\n",
      "320/320 [==============================] - 8s 26ms/step - loss: 3.4075e-04 - mean_squared_error: 3.4075e-04\n",
      "Epoch 10/200\n",
      "320/320 [==============================] - 8s 26ms/step - loss: 3.2328e-04 - mean_squared_error: 3.2328e-04\n",
      "Epoch 11/200\n",
      "320/320 [==============================] - 8s 26ms/step - loss: 3.1598e-04 - mean_squared_error: 3.1598e-04\n"
     ]
    }
   ],
   "source": [
    "model.fit(x=X_train, y=y_train, callbacks=[history, tb_callback], epochs=200)"
   ]
  },
  {
   "cell_type": "code",
   "execution_count": null,
   "metadata": {},
   "outputs": [],
   "source": [
    "plt.plot(history.losses)\n",
    "plt.show()"
   ]
  },
  {
   "cell_type": "code",
   "execution_count": null,
   "metadata": {},
   "outputs": [],
   "source": [
    "pred = model.predict(X_test)"
   ]
  },
  {
   "cell_type": "code",
   "execution_count": null,
   "metadata": {},
   "outputs": [],
   "source": [
    "slice_to_show = 100\n",
    "\n",
    "def sos(im, axis):\n",
    "    return np.sqrt(np.sum(np.power(im, 2), axis=axis))\n",
    "\n",
    "im1 = im_ref_test[slice_to_show, :, :, 0]\n",
    "im2 = sos(im_us_test[slice_to_show, :, :, :], axis=2)\n",
    "im3 = pred[slice_to_show, :, :, 0]\n",
    "\n",
    "\n",
    "fig = plt.figure(figsize=(10, 10))\n",
    "plt.imshow(np.hstack((im3, im1, im2)), cmap='gray')\n",
    "plt.title('pred | ref | us')\n",
    "plt.axis('off')\n",
    "plt.show()\n",
    "\n",
    "fig = plt.figure(figsize=(5, 5))\n",
    "plt.imshow(im3 - im1, cmap='gray')\n",
    "plt.axis('off')\n",
    "plt.show()"
   ]
  },
  {
   "cell_type": "code",
   "execution_count": null,
   "metadata": {},
   "outputs": [],
   "source": []
  }
 ],
 "metadata": {
  "kernelspec": {
   "display_name": "Python [default]",
   "language": "python",
   "name": "python2"
  },
  "language_info": {
   "codemirror_mode": {
    "name": "ipython",
    "version": 2
   },
   "file_extension": ".py",
   "mimetype": "text/x-python",
   "name": "python",
   "nbconvert_exporter": "python",
   "pygments_lexer": "ipython2",
   "version": "2.7.13"
  }
 },
 "nbformat": 4,
 "nbformat_minor": 2
}
