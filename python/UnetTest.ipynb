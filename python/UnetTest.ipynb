{
 "cells": [
  {
   "cell_type": "code",
   "execution_count": 53,
   "metadata": {},
   "outputs": [
    {
     "name": "stdout",
     "output_type": "stream",
     "text": [
      "The autoreload extension is already loaded. To reload it, use:\n",
      "  %reload_ext autoreload\n",
      "Clear previously loaded data.\n"
     ]
    }
   ],
   "source": [
    "import tensorflow as tf\n",
    "import numpy as np\n",
    "import matplotlib.pyplot as plt\n",
    "\n",
    "import dataset as dd # custom dataset class\n",
    "import unet\n",
    "from unet import UNet, shortcuts\n",
    "\n",
    "%load_ext autoreload\n",
    "%autoreload 2\n",
    "%matplotlib inline\n",
    "\n",
    "# Cleaning up variables to prevent loading data multiple times (which may cause memory issue)\n",
    "try:\n",
    "   del X_train, y_train\n",
    "   del X_test, y_test\n",
    "   print('Clear previously loaded data.')\n",
    "except:\n",
    "   pass\n",
    "\n",
    "# Load the raw CIFAR-10 data.\n",
    "im_ref, im_us = dd.get_dataset(1)\n",
    "X_train, y_train = (im_us,  im_ref)\n",
    "X_test, y_test = (X_train, y_train)\n",
    "\n"
   ]
  },
  {
   "cell_type": "code",
   "execution_count": 54,
   "metadata": {},
   "outputs": [
    {
     "name": "stdout",
     "output_type": "stream",
     "text": [
      "('Training data shape: ', (320, 320, 256, 8))\n",
      "('Training labels shape: ', (320, 320, 256, 1))\n",
      "('Test data shape: ', (320, 320, 256, 8))\n",
      "('Test labels shape: ', (320, 320, 256, 1))\n"
     ]
    }
   ],
   "source": [
    "print('Training data shape: ', X_train.shape)\n",
    "print('Training labels shape: ', y_train.shape)\n",
    "print('Test data shape: ', X_test.shape)\n",
    "print('Test labels shape: ', y_test.shape)"
   ]
  },
  {
   "cell_type": "code",
   "execution_count": 55,
   "metadata": {},
   "outputs": [],
   "source": [
    "# Define layers\n",
    "C1 = shortcuts.conv(filters=16, kernel_size=(3, 3), padding='same', strides=(1,1), activation='relu')\n",
    "M1 = shortcuts.maxpool(pool_size=(2, 2), strides=(2, 2), padding='same')\n",
    "C2 = shortcuts.conv(filters=32, kernel_size=(3, 3), padding='same', strides=(1,1), activation='relu')\n",
    "\n",
    "# \"un\" versions are my name for the upsampling path\n",
    "# \"unconv\" automatically concatenates the output from the corresponding\n",
    "# layer in the contracting network\n",
    "C3 = shortcuts.unconv(filters=32, kernel_size=(3, 3), padding='same', strides=(1, 1), activation='relu')\n",
    "U1 = shortcuts.unmaxpool(size=(2, 2))\n",
    "C4 = shortcuts.unconv(filters=16, kernel_size=(3, 3), padding='same', strides=(1,1), activation='relu')\n",
    "D1 = shortcuts.fc(1)\n",
    "\n",
    "input_shape = X_train.shape[1:]\n",
    "U = UNet(input_shape, C1, M1, C2, C3, U1, C4, D1)"
   ]
  },
  {
   "cell_type": "code",
   "execution_count": 56,
   "metadata": {},
   "outputs": [
    {
     "name": "stdout",
     "output_type": "stream",
     "text": [
      "_________________________________________________________________\n",
      "Layer (type)                 Output Shape              Param #   \n",
      "=================================================================\n",
      "input_10 (InputLayer)        (None, 320, 256, 8)       0         \n",
      "_________________________________________________________________\n",
      "conv2d_37 (Conv2D)           (None, 320, 256, 16)      1168      \n",
      "_________________________________________________________________\n",
      "max_pooling2d_10 (MaxPooling (None, 160, 128, 16)      0         \n",
      "_________________________________________________________________\n",
      "conv2d_38 (Conv2D)           (None, 160, 128, 32)      4640      \n",
      "_________________________________________________________________\n",
      "conv2d_39 (Conv2D)           (None, 160, 128, 32)      9248      \n",
      "_________________________________________________________________\n",
      "up_sampling2d_10 (UpSampling (None, 320, 256, 32)      0         \n",
      "_________________________________________________________________\n",
      "conv2d_40 (Conv2D)           (None, 320, 256, 16)      4624      \n",
      "_________________________________________________________________\n",
      "dense_10 (Dense)             (None, 320, 256, 1)       17        \n",
      "=================================================================\n",
      "Total params: 19,697\n",
      "Trainable params: 19,697\n",
      "Non-trainable params: 0\n",
      "_________________________________________________________________\n"
     ]
    }
   ],
   "source": [
    "U.model.summary()"
   ]
  },
  {
   "cell_type": "code",
   "execution_count": 52,
   "metadata": {},
   "outputs": [
    {
     "name": "stdout",
     "output_type": "stream",
     "text": [
      "Epoch 1/1\n",
      "320/320 [==============================] - 51s 160ms/step - loss: 0.0015 - mean_squared_error: 0.0015\n"
     ]
    }
   ],
   "source": [
    "U.train(X_train, y_train)"
   ]
  },
  {
   "cell_type": "code",
   "execution_count": null,
   "metadata": {
    "collapsed": true
   },
   "outputs": [],
   "source": []
  }
 ],
 "metadata": {
  "kernelspec": {
   "display_name": "Python [conda env:tf]",
   "language": "python",
   "name": "conda-env-tf-py"
  },
  "language_info": {
   "codemirror_mode": {
    "name": "ipython",
    "version": 2
   },
   "file_extension": ".py",
   "mimetype": "text/x-python",
   "name": "python",
   "nbconvert_exporter": "python",
   "pygments_lexer": "ipython2",
   "version": "2.7.13"
  }
 },
 "nbformat": 4,
 "nbformat_minor": 2
}
