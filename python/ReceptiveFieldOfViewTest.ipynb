{
 "cells": [
  {
   "cell_type": "code",
   "execution_count": 41,
   "metadata": {},
   "outputs": [
    {
     "name": "stdout",
     "output_type": "stream",
     "text": [
      "The autoreload extension is already loaded. To reload it, use:\n",
      "  %reload_ext autoreload\n"
     ]
    }
   ],
   "source": [
    "import tensorflow as tf\n",
    "import numpy as np\n",
    "import matplotlib.pyplot as plt\n",
    "\n",
    "import dataset as dd # custom dataset class\n",
    "import models as md\n",
    "\n",
    "import warnings\n",
    "\n",
    "# so that when you change an imported file, it changes in the notebook\n",
    "%load_ext autoreload \n",
    "%autoreload 2\n",
    "%matplotlib notebook"
   ]
  },
  {
   "cell_type": "code",
   "execution_count": 42,
   "metadata": {},
   "outputs": [
    {
     "name": "stdout",
     "output_type": "stream",
     "text": [
      "loading scan  1\n",
      "X shape:  (320, 320, 256, 8)\n",
      "y shape:  (320, 320, 256, 1)\n",
      "augment_images:  False\n"
     ]
    }
   ],
   "source": [
    "do_channel_augmentation = False\n",
    "\n",
    "# make a generator to get size of input data\n",
    "generator_train =  dd.MRImageSequence(scan_numbers=[1], batch_size=10, augment_channels=do_channel_augmentation)\n",
    "input_shape = generator_train.x_transformed[0].shape[1:]"
   ]
  },
  {
   "cell_type": "code",
   "execution_count": 43,
   "metadata": {
    "collapsed": true
   },
   "outputs": [],
   "source": [
    "def compare_fov(in1, in2):    \n",
    "    warnings.warn('receptive fov do not match') if(in1 != in2) else print('test passed')"
   ]
  },
  {
   "cell_type": "code",
   "execution_count": 44,
   "metadata": {},
   "outputs": [
    {
     "name": "stdout",
     "output_type": "stream",
     "text": [
      "get_kaist_unet\n",
      "use_pool:  True\n",
      "use_bn:  False\n",
      "gen_fn:  gen_conv_relu\n",
      "fov:  187\n"
     ]
    }
   ],
   "source": [
    "inputs = tf.keras.layers.Input(shape=input_shape)\n",
    "out, fov = md.get_kaist_unet(inputs, get_fov=True)\n",
    "\n",
    "print('fov: ', fov)"
   ]
  },
  {
   "cell_type": "code",
   "execution_count": 45,
   "metadata": {},
   "outputs": [],
   "source": [
    "def unit_test_fov(input_shape, unet_sizes, fov_correct_answer, use_pool):\n",
    "    # unet_sizes is a list of tuples, [(num_blocks_stage_i, num_filters_stage_i)]\n",
    "    inputs = tf.keras.layers.Input(shape=input_shape)\n",
    "    _, fov = md.get_unet(inputs, unet_sizes, use_pool=use_pool, get_fov=True)\n",
    "    \n",
    "    print('fov: ', fov)\n",
    "    compare_fov(fov, fov_correct_answer)"
   ]
  },
  {
   "cell_type": "code",
   "execution_count": 46,
   "metadata": {},
   "outputs": [
    {
     "name": "stdout",
     "output_type": "stream",
     "text": [
      "get_unet\n",
      "use_pool:  False\n",
      "gen_fn:  gen_conv_relu\n",
      "unet_shape:  [(2, 16)]\n",
      "Warning: Not using second convolution at the bottom of the U.\n",
      "Warning: Not using second convolution at the bottom of the U.\n",
      "fov:  4\n",
      "test passed\n"
     ]
    }
   ],
   "source": [
    "'''has 2 3x3 convolutions with no pooling ''' \n",
    "unet_size = [(2, 16)] \n",
    "unit_test_fov(input_shape, unet_size, 4, use_pool=False)"
   ]
  },
  {
   "cell_type": "code",
   "execution_count": 51,
   "metadata": {},
   "outputs": [
    {
     "name": "stdout",
     "output_type": "stream",
     "text": [
      "get_unet\n",
      "use_pool:  False\n",
      "gen_fn:  gen_conv_relu\n",
      "unet_shape:  [(2, 16), (3, 16)]\n",
      "fov:  14\n",
      "test passed\n"
     ]
    }
   ],
   "source": [
    "'''has 2 3x3 convolutions, 3 3x3 convolution, then 2 3x3 convolutions ''' \n",
    "unet_size = [(2, 16), (3, 16)] \n",
    "unit_test_fov(input_shape, unet_size, 14, use_pool=False)"
   ]
  },
  {
   "cell_type": "code",
   "execution_count": 54,
   "metadata": {},
   "outputs": [
    {
     "name": "stdout",
     "output_type": "stream",
     "text": [
      "get_unet\n",
      "use_pool:  True\n",
      "gen_fn:  gen_conv_relu\n",
      "unet_shape:  [(1, 16), (1, 16)]\n",
      "fov:  9\n",
      "test passed\n"
     ]
    }
   ],
   "source": [
    "''' 1 3x3 conv, pool, 1 3x3 conv, uppool, 1 3x3 conv - verified to be 9 on paper'''\n",
    "unet_size = [(1, 16), (1, 16)]\n",
    "unit_test_fov(input_shape, unet_size, 9, use_pool=True)\n",
    "              "
   ]
  },
  {
   "cell_type": "code",
   "execution_count": null,
   "metadata": {
    "collapsed": true
   },
   "outputs": [],
   "source": []
  }
 ],
 "metadata": {
  "kernelspec": {
   "display_name": "Python [conda env:tf3]",
   "language": "python",
   "name": "conda-env-tf3-py"
  },
  "language_info": {
   "codemirror_mode": {
    "name": "ipython",
    "version": 3
   },
   "file_extension": ".py",
   "mimetype": "text/x-python",
   "name": "python",
   "nbconvert_exporter": "python",
   "pygments_lexer": "ipython3",
   "version": "3.6.2"
  }
 },
 "nbformat": 4,
 "nbformat_minor": 2
}
